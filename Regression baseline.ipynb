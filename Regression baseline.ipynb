{
 "cells": [
  {
   "cell_type": "code",
   "execution_count": 204,
   "metadata": {},
   "outputs": [
    {
     "name": "stdout",
     "output_type": "stream",
     "text": [
      "Populating the interactive namespace from numpy and matplotlib\n"
     ]
    }
   ],
   "source": [
    "import pandas as pd\n",
    "import operator\n",
    "\n",
    "\n",
    "from sklearn.metrics import *\n",
    "from sklearn.preprocessing import StandardScaler\n",
    "from sklearn.preprocessing import MinMaxScaler\n",
    "from sklearn.pipeline import Pipeline\n",
    "from sklearn.pipeline import make_pipeline\n",
    "from sklearn.model_selection import KFold\n",
    "from sklearn.cross_validation import cross_val_score\n",
    "from xgboost import XGBClassifier, XGBRegressor\n",
    "from sklearn.ensemble import RandomForestClassifier, RandomForestRegressor\n",
    "from sklearn.ensemble import GradientBoostingClassifier, GradientBoostingRegressor\n",
    "from sklearn.linear_model import LogisticRegression\n",
    "from sklearn.neighbors import KNeighborsClassifier, KNeighborsRegressor\n",
    "from sklearn.svm import LinearSVC\n",
    "from sklearn.tree import DecisionTreeClassifier\n",
    "from sklearn.model_selection import GridSearchCV\n",
    "\n",
    "%pylab inline\n",
    "\n",
    "import warnings\n",
    "warnings.filterwarnings('ignore')"
   ]
  },
  {
   "cell_type": "markdown",
   "metadata": {},
   "source": [
    "http://srisai85.github.io/airfoil_noise/Airfoil_Noise_Prediction.html#/"
   ]
  },
  {
   "cell_type": "code",
   "execution_count": 3,
   "metadata": {},
   "outputs": [],
   "source": [
    "raw_data = pd.read_csv(\"airfoil_self_noise.dat.txt\", sep=\"\\t\", header=None)"
   ]
  },
  {
   "cell_type": "markdown",
   "metadata": {},
   "source": [
    "The NASA data set comprises different size NACA 0012 airfoils at various wind tunnel speeds and angles of attack. The span of the airfoil and the observer position were the same in all of the experiments."
   ]
  },
  {
   "cell_type": "markdown",
   "metadata": {},
   "source": [
    "http://airfoiltools.com/airfoil/details?airfoil=n0012-il"
   ]
  },
  {
   "cell_type": "markdown",
   "metadata": {},
   "source": [
    "This problem has the following inputs: \n",
    "1. Frequency, in Hertzs. \n",
    "2. Angle of attack, in degrees. \n",
    "3. Chord length, in meters. \n",
    "4. Free-stream velocity, in meters per second. \n",
    "5. Suction side displacement thickness, in meters. \n",
    "\n",
    "The only output is: \n",
    "6. Scaled sound pressure level, in decibels. "
   ]
  },
  {
   "cell_type": "code",
   "execution_count": 4,
   "metadata": {},
   "outputs": [],
   "source": [
    "data = raw_data.rename(index=str, columns={0: \"Freq\", 1: \"Angle_attack\", \n",
    "                                               2: \"Chord_length\", 3: \"Velocity\", 4: \"Disp_thick\", 5: \"Pres_level\"})"
   ]
  },
  {
   "cell_type": "code",
   "execution_count": 5,
   "metadata": {},
   "outputs": [
    {
     "data": {
      "text/html": [
       "<div>\n",
       "<style scoped>\n",
       "    .dataframe tbody tr th:only-of-type {\n",
       "        vertical-align: middle;\n",
       "    }\n",
       "\n",
       "    .dataframe tbody tr th {\n",
       "        vertical-align: top;\n",
       "    }\n",
       "\n",
       "    .dataframe thead th {\n",
       "        text-align: right;\n",
       "    }\n",
       "</style>\n",
       "<table border=\"1\" class=\"dataframe\">\n",
       "  <thead>\n",
       "    <tr style=\"text-align: right;\">\n",
       "      <th></th>\n",
       "      <th>Freq</th>\n",
       "      <th>Angle_attack</th>\n",
       "      <th>Chord_length</th>\n",
       "      <th>Velocity</th>\n",
       "      <th>Disp_thick</th>\n",
       "      <th>Pres_level</th>\n",
       "    </tr>\n",
       "  </thead>\n",
       "  <tbody>\n",
       "    <tr>\n",
       "      <th>0</th>\n",
       "      <td>800</td>\n",
       "      <td>0.0</td>\n",
       "      <td>0.3048</td>\n",
       "      <td>71.3</td>\n",
       "      <td>0.002663</td>\n",
       "      <td>126.201</td>\n",
       "    </tr>\n",
       "    <tr>\n",
       "      <th>1</th>\n",
       "      <td>1000</td>\n",
       "      <td>0.0</td>\n",
       "      <td>0.3048</td>\n",
       "      <td>71.3</td>\n",
       "      <td>0.002663</td>\n",
       "      <td>125.201</td>\n",
       "    </tr>\n",
       "    <tr>\n",
       "      <th>2</th>\n",
       "      <td>1250</td>\n",
       "      <td>0.0</td>\n",
       "      <td>0.3048</td>\n",
       "      <td>71.3</td>\n",
       "      <td>0.002663</td>\n",
       "      <td>125.951</td>\n",
       "    </tr>\n",
       "    <tr>\n",
       "      <th>3</th>\n",
       "      <td>1600</td>\n",
       "      <td>0.0</td>\n",
       "      <td>0.3048</td>\n",
       "      <td>71.3</td>\n",
       "      <td>0.002663</td>\n",
       "      <td>127.591</td>\n",
       "    </tr>\n",
       "    <tr>\n",
       "      <th>4</th>\n",
       "      <td>2000</td>\n",
       "      <td>0.0</td>\n",
       "      <td>0.3048</td>\n",
       "      <td>71.3</td>\n",
       "      <td>0.002663</td>\n",
       "      <td>127.461</td>\n",
       "    </tr>\n",
       "  </tbody>\n",
       "</table>\n",
       "</div>"
      ],
      "text/plain": [
       "   Freq  Angle_attack  Chord_length  Velocity  Disp_thick  Pres_level\n",
       "0   800           0.0        0.3048      71.3    0.002663     126.201\n",
       "1  1000           0.0        0.3048      71.3    0.002663     125.201\n",
       "2  1250           0.0        0.3048      71.3    0.002663     125.951\n",
       "3  1600           0.0        0.3048      71.3    0.002663     127.591\n",
       "4  2000           0.0        0.3048      71.3    0.002663     127.461"
      ]
     },
     "execution_count": 5,
     "metadata": {},
     "output_type": "execute_result"
    }
   ],
   "source": [
    "data.head()"
   ]
  },
  {
   "cell_type": "code",
   "execution_count": 6,
   "metadata": {},
   "outputs": [],
   "source": [
    "import lightgbm as lgb\n",
    "from sklearn import metrics\n",
    "from sklearn.cross_validation import train_test_split\n",
    "from sklearn.model_selection import GridSearchCV"
   ]
  },
  {
   "cell_type": "code",
   "execution_count": null,
   "metadata": {},
   "outputs": [],
   "source": []
  },
  {
   "cell_type": "code",
   "execution_count": 7,
   "metadata": {},
   "outputs": [],
   "source": [
    "nu = 15.68e-06 # Kinematic Viscosity for air at 300K (27°C) is noted as 1.568e-5\n",
    "c0 = 1450\n",
    "data[\"Re\"] = data[\"Velocity\"]*data[\"Chord_length\"]/nu # Re = Free Stream Velocity * Characteristic Length/Kinematic Viscosity\n",
    "data[\"St_d\"] = data[\"Freq\"]*data[\"Disp_thick\"]/data[\"Velocity\"]\n",
    "data[\"St_l\"] = data[\"Freq\"]*data[\"Chord_length\"]/data[\"Velocity\"]\n",
    "data[\"Dt\"] = data[\"Disp_thick\"]/data[\"Chord_length\"]\n",
    "data[\"Ro_d\"] = data[\"Re\"]*data[\"St_d\"]\n",
    "data[\"Ma\"] = data[\"Velocity\"]/c0\n",
    "data[\"An\"] = data[\"Angle_attack\"]"
   ]
  },
  {
   "cell_type": "code",
   "execution_count": null,
   "metadata": {},
   "outputs": [],
   "source": []
  },
  {
   "cell_type": "code",
   "execution_count": null,
   "metadata": {},
   "outputs": [],
   "source": []
  },
  {
   "cell_type": "code",
   "execution_count": 8,
   "metadata": {},
   "outputs": [],
   "source": [
    "from sklearn.preprocessing import PolynomialFeatures"
   ]
  },
  {
   "cell_type": "code",
   "execution_count": 9,
   "metadata": {},
   "outputs": [],
   "source": [
    "def data_preprocess(data):\n",
    "    final_data = data.copy()\n",
    "    \n",
    "    poly = PolynomialFeatures(degree=2)\n",
    "    final_data = poly.fit_transform(final_data)\n",
    "    feature_names = poly.get_feature_names()\n",
    "\n",
    "\n",
    "    return final_data, feature_names"
   ]
  },
  {
   "cell_type": "code",
   "execution_count": 10,
   "metadata": {},
   "outputs": [],
   "source": [
    "y = data['Pres_level']\n",
    "X = data[['St_d', 'St_l', 'Ro_d', 'An', 'Dt', 'Re', 'Ma']]"
   ]
  },
  {
   "cell_type": "code",
   "execution_count": 11,
   "metadata": {},
   "outputs": [],
   "source": [
    "X_train, X_test, y_train, y_test = train_test_split(X, y, random_state=48, test_size=0.2)"
   ]
  },
  {
   "cell_type": "code",
   "execution_count": 12,
   "metadata": {},
   "outputs": [],
   "source": [
    "def show_cv_reg(clf_i, name, f, l, cv, score='r2', param=None, vbs=False):\n",
    "    if param: \n",
    "        grid_cv = GridSearchCV(\n",
    "            clf_i,\n",
    "            param,\n",
    "            scoring=score,\n",
    "            cv=cv,\n",
    "            verbose=vbs,\n",
    "            n_jobs=-1\n",
    "        )\n",
    "        grid_cv.fit(f, l)\n",
    "        clf_i = grid_cv.best_estimator_\n",
    "        print(grid_cv.best_params_)\n",
    "    score = cross_val_score(clf_i,f,l,cv=cv, scoring=score, n_jobs=-1)\n",
    "    print(name, score.mean(), score)"
   ]
  },
  {
   "cell_type": "code",
   "execution_count": 13,
   "metadata": {},
   "outputs": [],
   "source": [
    "features, feature_names = data_preprocess(X_train)\n",
    "train_feat = features\n",
    "train_labels = y_train"
   ]
  },
  {
   "cell_type": "code",
   "execution_count": 21,
   "metadata": {},
   "outputs": [],
   "source": [
    "features, feature_names = data_preprocess(X_test)\n",
    "test_feat = features\n",
    "test_labels = y_test"
   ]
  },
  {
   "cell_type": "code",
   "execution_count": 14,
   "metadata": {},
   "outputs": [],
   "source": [
    "from sklearn.linear_model import  Ridge, Lasso, ElasticNet, BayesianRidge, LassoLars, LinearRegression\n",
    "from sklearn.neighbors import KNeighborsRegressor"
   ]
  },
  {
   "cell_type": "code",
   "execution_count": 15,
   "metadata": {},
   "outputs": [
    {
     "name": "stdout",
     "output_type": "stream",
     "text": [
      "Linear_reg 0.6765407753492998 [0.75728388 0.74504737 0.66035417 0.75265648 0.71335812 0.59536661\n",
      " 0.75534111 0.49395434 0.64426201 0.64778366]\n",
      "Ridge_reg 0.6846434563271744 [0.75380667 0.74449835 0.66893367 0.75546947 0.70948202 0.59624033\n",
      " 0.76032088 0.55220669 0.64569444 0.65978204]\n",
      "Lasso_reg 0.5564529514712084 [0.52707514 0.57151042 0.51196872 0.64432909 0.57012211 0.4712422\n",
      " 0.57275788 0.58809158 0.59698628 0.51044609]\n",
      "Elasnet_reg 0.5816733840115837 [0.55966791 0.60057767 0.56075381 0.66791319 0.59077224 0.49279399\n",
      " 0.60339861 0.60094695 0.62030104 0.51960845]\n",
      "KNN_reg 0.7896008666082973 [0.82504733 0.77046794 0.79697646 0.76566856 0.7842853  0.77535955\n",
      " 0.8210193  0.7772483  0.76845356 0.81148236]\n",
      "Bay_reg 0.6785762666308739 [0.7187999  0.72395882 0.6655609  0.75659742 0.67906113 0.59965869\n",
      " 0.7428869  0.62891346 0.63950371 0.63082174]\n",
      "Lars_reg -0.011016190409286475 [-7.75013085e-03 -5.98035698e-04 -2.61631593e-02 -4.68398720e-02\n",
      " -1.48963308e-05 -9.12371077e-04 -7.52379726e-03 -9.39016248e-03\n",
      " -1.23935809e-03 -9.73012104e-03]\n",
      "RF_reg 0.9002386639571656 [0.91614156 0.91194775 0.91492426 0.92527288 0.89506293 0.88325989\n",
      " 0.90158857 0.92277081 0.87438554 0.85703245]\n",
      "XGB_reg 0.9108305333440629 [0.9193786  0.90939079 0.91641063 0.91854984 0.91342226 0.9099226\n",
      " 0.90855854 0.92941506 0.89023362 0.89302341]\n"
     ]
    }
   ],
   "source": [
    "scaler = StandardScaler()\n",
    "model_linear_reg = make_pipeline(scaler, LinearRegression())\n",
    "model_ridge_reg = make_pipeline(scaler, Ridge())\n",
    "model_lasso_reg = make_pipeline(scaler, Lasso())\n",
    "model_elasnet_reg = make_pipeline(scaler, ElasticNet())\n",
    "model_knn_reg = make_pipeline(scaler, KNeighborsRegressor())\n",
    "model_bay_reg = BayesianRidge()\n",
    "model_lars_reg = LassoLars()\n",
    "model_rf_reg = RandomForestRegressor()\n",
    "model_xgb_reg = XGBRegressor()\n",
    "\n",
    "clfs = [\n",
    "    ['Linear_reg', model_linear_reg],\n",
    "    ['Ridge_reg', model_ridge_reg],\n",
    "    ['Lasso_reg', model_lasso_reg],\n",
    "    ['Elasnet_reg', model_elasnet_reg],\n",
    "    ['KNN_reg', model_knn_reg],\n",
    "    ['Bay_reg', model_bay_reg],\n",
    "    ['Lars_reg', model_lars_reg],\n",
    "    ['RF_reg', model_rf_reg],\n",
    "    ['XGB_reg', model_xgb_reg]\n",
    "]\n",
    "\n",
    "cv = KFold(n_splits=10, shuffle=True, random_state=48).get_n_splits(train_feat,train_labels)\n",
    "for name, cl in clfs:\n",
    "    show_cv_reg(cl, name, train_feat, train_labels, cv)"
   ]
  },
  {
   "cell_type": "code",
   "execution_count": 220,
   "metadata": {},
   "outputs": [],
   "source": [
    "# function takes a RF parameter and a ranger and produces a plot and dataframe of CV scores for parameter values\n",
    "def evaluate_param(clf, X, y, parameter, num_range, index):\n",
    "    grid_search = GridSearchCV(clf, param_grid = {parameter: num_range}, scoring=\"r2\", cv=10)\n",
    "    grid_search.fit(X, y)\n",
    "    \n",
    "    df = {}\n",
    "    for i, score in enumerate(grid_search.grid_scores_):\n",
    "        df[score[0][parameter]] = score[1]\n",
    "       \n",
    "    \n",
    "    df = pd.DataFrame.from_dict(df, orient='index')\n",
    "    df.reset_index(level=0, inplace=True)\n",
    "    df = df.sort_values(by='index')\n",
    " \n",
    "    plt.subplot(4,2,index)\n",
    "    plot = plt.plot(df['index'], df[0])\n",
    "    plt.title(parameter)\n",
    "    return plot, df"
   ]
  },
  {
   "cell_type": "code",
   "execution_count": null,
   "metadata": {},
   "outputs": [],
   "source": []
  },
  {
   "cell_type": "code",
   "execution_count": 221,
   "metadata": {},
   "outputs": [],
   "source": [
    "param_grid = {\"random_state\": np.arange(1,12,1),\n",
    "              \"n_estimators\": np.arange(2, 300, 10),\n",
    "              \"max_features\": np.arange(0.1,1.0,0.1),\n",
    "              \"max_depth\": np.arange(1, 28, 1),\n",
    "              \"min_samples_split\": np.arange(2,30,2),\n",
    "              \"min_samples_leaf\": np.arange(1,30,1),\n",
    "              \"max_leaf_nodes\": np.arange(2,30,1),\n",
    "              \"min_weight_fraction_leaf\": np.arange(0.1,0.4, 0.1)\n",
    "             }"
   ]
  },
  {
   "cell_type": "code",
   "execution_count": null,
   "metadata": {},
   "outputs": [],
   "source": [
    "clf = RandomForestRegressor(n_jobs=-1)\n",
    "\n",
    "index = 1\n",
    "plt.figure(figsize=(16,16))\n",
    "for parameter, param_range in dict.items(param_grid):   \n",
    "    evaluate_param(clf,train_feat,train_labels,parameter,param_range,index)\n",
    "    index += 1"
   ]
  },
  {
   "cell_type": "code",
   "execution_count": null,
   "metadata": {},
   "outputs": [],
   "source": []
  },
  {
   "cell_type": "code",
   "execution_count": null,
   "metadata": {},
   "outputs": [],
   "source": [
    "model = XGBRegressor()\n",
    " \n",
    "n_estimators = [100, 200, 300, 400, 500, 1000]\n",
    "learning_rate = [0.05, 0.1, 0.2, 0.3] \n",
    "\n",
    "param_grid = dict(learning_rate=learning_rate, n_estimators=n_estimators)\n",
    "\n",
    "grid_search = GridSearchCV(model, param_grid, scoring=\"r2\", cv=10, n_jobs=-1)\n",
    "grid_result = grid_search.fit(train_feat, train_labels)\n",
    "# summarize results\n",
    "print(\"Best: %f using %s\" % (grid_result.best_score_, grid_result.best_params_))\n",
    "means = grid_result.cv_results_['mean_test_score']\n",
    "stds = grid_result.cv_results_['std_test_score']\n",
    "params = grid_result.cv_results_['params']\n",
    "for mean, stdev, param in zip(means, stds, params):\n",
    "    print(\"%f (%f) with: %r\" % (mean, stdev, param))\n",
    "# plot results\n",
    "scores = numpy.array(means).reshape(len(learning_rate), len(n_estimators))\n",
    "for i, value in enumerate(learning_rate):\n",
    "    pyplot.plot(n_estimators, scores[i], label='learning_rate: ' + str(value))\n",
    "pyplot.legend()\n",
    "pyplot.xlabel('n_estimators')\n",
    "pyplot.ylabel('R2')"
   ]
  },
  {
   "cell_type": "code",
   "execution_count": 148,
   "metadata": {},
   "outputs": [],
   "source": [
    "import numpy as np\n",
    "import pandas as pd\n",
    "\n",
    "from hyperopt import hp, tpe\n",
    "from hyperopt.fmin import fmin\n",
    "\n",
    "from sklearn.model_selection import cross_val_score, StratifiedKFold\n",
    "from sklearn.ensemble import RandomForestClassifier\n",
    "from sklearn.metrics import make_scorer\n",
    "\n",
    "import xgboost as xgb\n",
    "\n",
    "import lightgbm as lgbm"
   ]
  },
  {
   "cell_type": "code",
   "execution_count": 162,
   "metadata": {},
   "outputs": [
    {
     "name": "stdout",
     "output_type": "stream",
     "text": [
      "MSE -8.373 params {'n_estimators': 350, 'max_depth': 5}\n",
      "MSE -9.749 params {'n_estimators': 250, 'max_depth': 4}\n",
      "MSE -6.647 params {'n_estimators': 75, 'max_depth': 7}\n",
      "MSE -7.307 params {'n_estimators': 75, 'max_depth': 6}\n",
      "MSE -6.135 params {'n_estimators': 50, 'max_depth': 8}\n",
      "MSE -6.024 params {'n_estimators': 225, 'max_depth': 8}\n",
      "MSE -6.041 params {'n_estimators': 350, 'max_depth': 8}\n",
      "MSE -14.371 params {'n_estimators': 50, 'max_depth': 2}\n",
      "MSE -14.161 params {'n_estimators': 450, 'max_depth': 2}\n",
      "MSE -8.337 params {'n_estimators': 50, 'max_depth': 5}\n"
     ]
    }
   ],
   "source": [
    "def objective(params):\n",
    "    \n",
    "    params = {'n_estimators': int(params['n_estimators']), 'max_depth': int(params['max_depth'])}\n",
    "    clf = RandomForestRegressor(n_jobs=4, **params)\n",
    "    \n",
    "    score = cross_val_score(clf, train_feat, train_labels, scoring=\"mean_squared_error\", cv=KFold()).mean()\n",
    "    print(\"MSE {:.3f} params {}\".format(score, params))\n",
    "    return score\n",
    "\n",
    "space = {\n",
    "    'n_estimators': hp.quniform('n_estimators', 25, 500, 25),\n",
    "    'max_depth': hp.quniform('max_depth', 1, 10, 1)\n",
    "}\n",
    "\n",
    "best = fmin(fn=objective,\n",
    "            space=space,\n",
    "            algo=tpe.suggest,\n",
    "            max_evals=10)"
   ]
  },
  {
   "cell_type": "code",
   "execution_count": 157,
   "metadata": {},
   "outputs": [
    {
     "name": "stdout",
     "output_type": "stream",
     "text": [
      "R2 -3.184 params {'max_depth': 7, 'gamma': '0.200', 'colsample_bytree': '0.595'}\n",
      "R2 -3.211 params {'max_depth': 7, 'gamma': '0.075', 'colsample_bytree': '0.313'}\n",
      "R2 -3.331 params {'max_depth': 6, 'gamma': '0.361', 'colsample_bytree': '0.945'}\n",
      "R2 -3.235 params {'max_depth': 7, 'gamma': '0.405', 'colsample_bytree': '0.384'}\n",
      "R2 -3.137 params {'max_depth': 7, 'gamma': '0.409', 'colsample_bytree': '0.559'}\n",
      "R2 -5.767 params {'max_depth': 2, 'gamma': '0.284', 'colsample_bytree': '0.393'}\n",
      "R2 -4.395 params {'max_depth': 3, 'gamma': '0.430', 'colsample_bytree': '0.378'}\n",
      "R2 -3.275 params {'max_depth': 8, 'gamma': '0.133', 'colsample_bytree': '0.986'}\n",
      "R2 -3.248 params {'max_depth': 7, 'gamma': '0.298', 'colsample_bytree': '0.918'}\n",
      "R2 -3.459 params {'max_depth': 4, 'gamma': '0.079', 'colsample_bytree': '0.613'}\n"
     ]
    }
   ],
   "source": [
    "def objective(params):\n",
    "    params = {\n",
    "        'max_depth': int(params['max_depth']),\n",
    "        'gamma': \"{:.3f}\".format(params['gamma']),\n",
    "        'colsample_bytree': '{:.3f}'.format(params['colsample_bytree']),\n",
    "    }\n",
    "    \n",
    "    clf = xgb.XGBRegressor(\n",
    "        n_estimators=250,\n",
    "        learning_rate=0.05,\n",
    "        n_jobs=4,\n",
    "        **params\n",
    "    )\n",
    "    \n",
    "    score = cross_val_score(clf, train_feat, train_labels, scoring=\"mean_squared_error\", cv=KFold()).mean()\n",
    "    print(\"R2 {:.3f} params {}\".format(score, params))\n",
    "    return score\n",
    "\n",
    "space = {\n",
    "    'max_depth': hp.quniform('max_depth', 2, 8, 1),\n",
    "    'colsample_bytree': hp.uniform('colsample_bytree', 0.3, 1.0),\n",
    "    'gamma': hp.uniform('gamma', 0.0, 0.5),\n",
    "}\n",
    "\n",
    "best = fmin(fn=objective,\n",
    "            space=space,\n",
    "            algo=tpe.suggest,\n",
    "            max_evals=10)"
   ]
  },
  {
   "cell_type": "code",
   "execution_count": 158,
   "metadata": {},
   "outputs": [
    {
     "name": "stdout",
     "output_type": "stream",
     "text": [
      "Hyperopt estimated optimum {'colsample_bytree': 0.5587649856623876, 'gamma': 0.40917533691239155, 'max_depth': 7.0}\n"
     ]
    }
   ],
   "source": [
    "print(\"Hyperopt estimated optimum {}\".format(best))"
   ]
  },
  {
   "cell_type": "code",
   "execution_count": null,
   "metadata": {},
   "outputs": [],
   "source": [
    "def objective(params):\n",
    "    params = {\n",
    "        'num_leaves': int(params['num_leaves']),\n",
    "        'colsample_bytree': '{:.3f}'.format(params['colsample_bytree']),\n",
    "    }\n",
    "    \n",
    "    clf = lgbm.LGBMRegressor(\n",
    "        n_estimators=500,\n",
    "        learning_rate=0.01,\n",
    "        **params\n",
    "    )\n",
    "    \n",
    "    score = cross_val_score(clf, train_feat, train_labels, scoring=\"mean_squared_error\", cv=KFold()).mean()\n",
    "    print(\"Gini {:.3f} params {}\".format(score, params))\n",
    "    return score\n",
    "\n",
    "space = {\n",
    "    'num_leaves': hp.quniform('num_leaves', 8, 128, 2),\n",
    "    'colsample_bytree': hp.uniform('colsample_bytree', 0.3, 1.0),\n",
    "}\n",
    "\n",
    "best = fmin(fn=objective,\n",
    "            space=space,\n",
    "            algo=tpe.suggest,\n",
    "            max_evals=10)"
   ]
  },
  {
   "cell_type": "markdown",
   "metadata": {},
   "source": [
    "### Overfitting control"
   ]
  },
  {
   "cell_type": "code",
   "execution_count": 233,
   "metadata": {},
   "outputs": [
    {
     "data": {
      "image/png": "[encoded data removed]",
      "text/plain": [
       "<Figure size 504x360 with 1 Axes>"
      ]
     },
     "metadata": {},
     "output_type": "display_data"
    }
   ],
   "source": [
    "model = XGBRegressor(n_estimators=1000, eta=0.5)\n",
    "\n",
    "est_feat, valid_feat, est_labels, valid_labels = train_test_split(train_feat, train_labels, test_size=0.2, random_state=48)\n",
    "eval_set = [(est_feat, est_labels), (valid_feat, valid_labels)]\n",
    "model.fit(est_feat, est_labels, eval_set=eval_set, eval_metric=\"rmse\", early_stopping_rounds=10, verbose=False)\n",
    "# make predictions for test data\n",
    "y_pred = model.predict(valid_feat)\n",
    "predictions = [round(value) for value in y_pred]\n",
    "# retrieve performance metrics\n",
    "results = model.evals_result()\n",
    "epochs = len(results['validation_0']['rmse'])\n",
    "x_axis = range(0, epochs)\n",
    "# plot log loss\n",
    "fig = plt.figure(figsize=(7,5))\n",
    "plt.plot(x_axis, results['validation_0']['rmse'], label='train')\n",
    "plt.plot(x_axis, results['validation_1']['rmse'], label='validation')\n",
    "plt.legend()\n",
    "plt.ylim([0,20])\n",
    "pyplot.ylabel('RMSE')\n",
    "pyplot.title('XGBoost Loss')\n",
    "pyplot.show()"
   ]
  },
  {
   "cell_type": "code",
   "execution_count": null,
   "metadata": {},
   "outputs": [],
   "source": []
  },
  {
   "cell_type": "code",
   "execution_count": null,
   "metadata": {},
   "outputs": [],
   "source": []
  },
  {
   "cell_type": "code",
   "execution_count": null,
   "metadata": {},
   "outputs": [],
   "source": []
  },
  {
   "cell_type": "code",
   "execution_count": null,
   "metadata": {},
   "outputs": [],
   "source": []
  },
  {
   "cell_type": "code",
   "execution_count": 16,
   "metadata": {},
   "outputs": [
    {
     "name": "stdout",
     "output_type": "stream",
     "text": [
      "Fitting 10 folds for each of 20 candidates, totalling 200 fits\n"
     ]
    },
    {
     "name": "stderr",
     "output_type": "stream",
     "text": [
      "[Parallel(n_jobs=-1)]: Done  10 tasks      | elapsed:    0.6s\n",
      "[Parallel(n_jobs=-1)]: Done 160 tasks      | elapsed:    3.8s\n",
      "[Parallel(n_jobs=-1)]: Done 200 out of 200 | elapsed:    4.5s finished\n"
     ]
    },
    {
     "name": "stdout",
     "output_type": "stream",
     "text": [
      "{'ridge__alpha': 0.9501000000000001}\n",
      "Ridge_reg 0.6844383622649581 [0.75393164 0.74451869 0.66859321 0.7554397  0.70957763 0.59619718\n",
      " 0.76020338 0.55058625 0.64556212 0.65977381]\n",
      "Fitting 10 folds for each of 5 candidates, totalling 50 fits\n"
     ]
    },
    {
     "name": "stderr",
     "output_type": "stream",
     "text": [
      "[Parallel(n_jobs=-1)]: Done  11 out of  50 | elapsed:    0.2s remaining:    0.7s\n",
      "[Parallel(n_jobs=-1)]: Done  50 out of  50 | elapsed:    0.5s finished\n"
     ]
    },
    {
     "name": "stdout",
     "output_type": "stream",
     "text": [
      "{'kneighborsregressor__n_neighbors': 5}\n",
      "KNN_reg 0.7896008666082973 [0.82504733 0.77046794 0.79697646 0.76566856 0.7842853  0.77535955\n",
      " 0.8210193  0.7772483  0.76845356 0.81148236]\n",
      "Fitting 10 folds for each of 384 candidates, totalling 3840 fits\n"
     ]
    },
    {
     "name": "stderr",
     "output_type": "stream",
     "text": [
      "[Parallel(n_jobs=-1)]: Done  10 tasks      | elapsed:    0.4s\n",
      "[Parallel(n_jobs=-1)]: Done 160 tasks      | elapsed:    6.1s\n",
      "[Parallel(n_jobs=-1)]: Done 410 tasks      | elapsed:   16.5s\n",
      "[Parallel(n_jobs=-1)]: Done 760 tasks      | elapsed:   40.3s\n",
      "[Parallel(n_jobs=-1)]: Done 1210 tasks      | elapsed:  1.1min\n",
      "[Parallel(n_jobs=-1)]: Done 1760 tasks      | elapsed:  1.8min\n",
      "[Parallel(n_jobs=-1)]: Done 2410 tasks      | elapsed:  2.5min\n",
      "[Parallel(n_jobs=-1)]: Done 3160 tasks      | elapsed:  3.4min\n",
      "[Parallel(n_jobs=-1)]: Done 3840 out of 3840 | elapsed:  4.5min finished\n"
     ]
    },
    {
     "name": "stdout",
     "output_type": "stream",
     "text": [
      "{'max_depth': 15, 'max_features': 0.3, 'min_samples_leaf': 1, 'min_samples_split': 2, 'n_estimators': 200}\n",
      "RF_reg 0.91373094022226 [0.92585186 0.91834221 0.92574485 0.93612254 0.90870924 0.89593248\n",
      " 0.91035731 0.93769258 0.89645079 0.88210555]\n",
      "Fitting 10 folds for each of 720 candidates, totalling 7200 fits\n"
     ]
    },
    {
     "name": "stderr",
     "output_type": "stream",
     "text": [
      "[Parallel(n_jobs=-1)]: Done  10 tasks      | elapsed:    0.2s\n",
      "[Parallel(n_jobs=-1)]: Done 280 tasks      | elapsed:    1.5s\n",
      "[Parallel(n_jobs=-1)]: Done 780 tasks      | elapsed:    4.4s\n",
      "[Parallel(n_jobs=-1)]: Done 1480 tasks      | elapsed:    8.7s\n",
      "[Parallel(n_jobs=-1)]: Done 2380 tasks      | elapsed:   14.2s\n",
      "[Parallel(n_jobs=-1)]: Done 3480 tasks      | elapsed:   22.6s\n",
      "[Parallel(n_jobs=-1)]: Done 4780 tasks      | elapsed:   34.5s\n",
      "[Parallel(n_jobs=-1)]: Done 6280 tasks      | elapsed:   50.0s\n",
      "[Parallel(n_jobs=-1)]: Done 7200 out of 7200 | elapsed:  1.0min finished\n"
     ]
    },
    {
     "name": "stdout",
     "output_type": "stream",
     "text": [
      "{'colsample_bytree': 0.5, 'learning_rate': 0.07978947368421052, 'max_depth': 7, 'n_estimators': 150}\n",
      "XGB_reg 0.9466223119347623 [0.95181412 0.94754784 0.96687687 0.95439469 0.93652034 0.9492125\n",
      " 0.95134363 0.95877869 0.91573981 0.93399463]\n"
     ]
    }
   ],
   "source": [
    "clfs = [\n",
    "    ['Ridge_reg', model_ridge_reg],\n",
    "    ['KNN_reg', model_knn_reg],\n",
    "    ['RF_reg', model_rf_reg],\n",
    "    ['XGB_reg', model_xgb_reg]\n",
    "]\n",
    "\n",
    "parameters={\n",
    "    \n",
    "   'Ridge_reg': {\n",
    "        'ridge__alpha': np.arange(0.0001, 1.0, 0.05)\n",
    "   },\n",
    "    \n",
    "    'KNN_reg': {\n",
    "        'kneighborsregressor__n_neighbors': np.arange(5, 15, 2)\n",
    "   },\n",
    "    \n",
    "    'RF_reg': {\n",
    "        'n_estimators': [50, 100, 200, 300],\n",
    "        'max_depth': [8,10,12,15],\n",
    "        'max_features': [0.2, 0.3, 0.5, 0.7],\n",
    "        'min_samples_split': [2,5],\n",
    "        'min_samples_leaf': [1,2,5],\n",
    "    },\n",
    "    'XGB_reg': {\n",
    "        'n_estimators': [20, 50, 100, 150],\n",
    "        'colsample_bytree': [0.3, 0.5, 0.7],\n",
    "        'learning_rate': np.linspace(0.001, 0.5, num=20),\n",
    "        'max_depth': [3,5,7]\n",
    "    }\n",
    "}\n",
    "\n",
    "for name, cl in clfs:\n",
    "    show_cv_reg(cl, name, train_feat, train_labels, cv, param=parameters.get(name), vbs=True)"
   ]
  },
  {
   "cell_type": "code",
   "execution_count": null,
   "metadata": {},
   "outputs": [],
   "source": [
    "final_reg_model1 = RandomForestRegressor(n_estimators=200, max_depth=15, max_features=0.3, min_samples_split=2,\n",
    "                                         min_samples_leaf=1, n_jobs=5, \n",
    "                                         random_state=48)"
   ]
  },
  {
   "cell_type": "code",
   "execution_count": null,
   "metadata": {},
   "outputs": [],
   "source": [
    "final_reg_model2 = XGBRegressor(n_estimators=150, learning_rate=0.0797, max_depth=7, colsample_bytree=0.3, random_state=48)"
   ]
  },
  {
   "cell_type": "code",
   "execution_count": null,
   "metadata": {},
   "outputs": [],
   "source": [
    "from sklearn.metrics import r2_score"
   ]
  },
  {
   "cell_type": "code",
   "execution_count": null,
   "metadata": {},
   "outputs": [],
   "source": [
    "final_reg_model1.fit(train_feat, train_labels)\n",
    "final_reg_model2.fit(train_feat, train_labels)\n",
    "\n",
    "predict = []\n",
    "predict.append(final_reg_model1.predict(test_feat))\n",
    "predict.append(final_reg_model2.predict(test_feat))\n",
    "\n",
    "for n, model_name in enumerate(['RF_reg', 'XGB_reg']):\n",
    "    print(model_name, r2_score(test_labels, [x for x in predict[n]]))"
   ]
  },
  {
   "cell_type": "code",
   "execution_count": null,
   "metadata": {},
   "outputs": [],
   "source": [
    "plt.figure(figsize=(7,5))\n",
    "plt.plot(test_labels, predict[0], 'ro')\n",
    "plt.plot(test_labels, predict[1], 'bo')\n",
    "plt.plot([105, 140], [105, 140], 'k--')"
   ]
  },
  {
   "cell_type": "code",
   "execution_count": null,
   "metadata": {},
   "outputs": [],
   "source": [
    "feature_names = feature_names\n",
    "importances = final_reg_model2.feature_importances_\n",
    "indices = np.argsort(importances)[::-1]\n",
    "\n",
    "print(\"Feature importances:\")\n",
    "for f, idx in enumerate(indices):\n",
    "    print(\"{:2d}. feature '{:5s}' ({:.4f})\".format(f+1, feature_names[idx], importances[idx]))"
   ]
  },
  {
   "cell_type": "code",
   "execution_count": null,
   "metadata": {},
   "outputs": [],
   "source": [
    "d_first = 7\n",
    "plt.figure(figsize=(5,5))\n",
    "plt.title(\"Feature importances\")\n",
    "plt.bar(range(d_first), importances[indices[:d_first]], align='center')\n",
    "plt.xticks(range(d_first), np.array(feature_names)[indices[:d_first]], rotation=90)\n",
    "plt.xlim([-1, d_first]);"
   ]
  },
  {
   "cell_type": "code",
   "execution_count": null,
   "metadata": {},
   "outputs": [],
   "source": []
  },
  {
   "cell_type": "code",
   "execution_count": null,
   "metadata": {},
   "outputs": [],
   "source": []
  },
  {
   "cell_type": "code",
   "execution_count": null,
   "metadata": {},
   "outputs": [],
   "source": []
  },
  {
   "cell_type": "code",
   "execution_count": null,
   "metadata": {},
   "outputs": [],
   "source": []
  },
  {
   "cell_type": "code",
   "execution_count": null,
   "metadata": {},
   "outputs": [],
   "source": []
  },
  {
   "cell_type": "code",
   "execution_count": null,
   "metadata": {},
   "outputs": [],
   "source": []
  },
  {
   "cell_type": "markdown",
   "metadata": {},
   "source": [
    "### Stacking regressor"
   ]
  },
  {
   "cell_type": "code",
   "execution_count": 243,
   "metadata": {},
   "outputs": [
    {
     "name": "stdout",
     "output_type": "stream",
     "text": [
      "Fitting 5 folds for each of 9 candidates, totalling 45 fits\n"
     ]
    },
    {
     "name": "stderr",
     "output_type": "stream",
     "text": [
      "[Parallel(n_jobs=-1)]: Done  45 out of  45 | elapsed:  1.6min finished\n"
     ]
    },
    {
     "name": "stdout",
     "output_type": "stream",
     "text": [
      "Best: 0.945800 using {'meta-xgbregressor__colsample_bytree': 0.5, 'meta-xgbregressor__learning_rate': 0.1, 'meta-xgbregressor__max_depth': 7, 'meta-xgbregressor__n_estimators': 300}\n"
     ]
    }
   ],
   "source": [
    "from mlxtend.regressor import StackingCVRegressor\n",
    "\n",
    "\n",
    "seed=48\n",
    "# pipeline: tune weak regressor over cv\n",
    "ridge = make_pipeline(scaler, Ridge(alpha=0.95, random_state=seed))\n",
    "knn = make_pipeline(scaler, KNeighborsRegressor(n_neighbors=5))\n",
    "rf = RandomForestRegressor(n_estimators=200, max_depth=15, max_features=0.3, min_samples_split=2, \n",
    "                           min_samples_leaf=1, n_jobs=-1, random_state=seed)\n",
    "\n",
    "xgb = XGBRegressor(random_state=seed, n_jobs=-1)\n",
    "\n",
    "# The StackingCVRegressor uses scikit-learn's check_cv\n",
    "# internally, which doesn't support a random seed. Thus\n",
    "# NumPy's random seed need to be specified explicitely for\n",
    "# deterministic behavior\n",
    "np.random.seed(seed)\n",
    "\n",
    "stack = StackingCVRegressor(regressors=(ridge, knn, rf),\n",
    "                            meta_regressor=xgb, \n",
    "                            use_features_in_secondary=True)\n",
    "\n",
    "\n",
    "grid = GridSearchCV(\n",
    "    \n",
    "    estimator=stack, \n",
    "    \n",
    "    param_grid={\n",
    "        \n",
    "        'meta-xgbregressor__n_estimators': [300],\n",
    "        'meta-xgbregressor__learning_rate': [0.1],\n",
    "         'meta-xgbregressor__colsample_bytree': [0.3, 0.5, 0.7],\n",
    "          'meta-xgbregressor__max_depth': [3,5,7]\n",
    "      \n",
    "    }, \n",
    "    cv=5,\n",
    "    refit=True,\n",
    "    verbose=True,\n",
    "    n_jobs=-1\n",
    ")\n",
    "\n",
    "grid.fit(train_feat, train_labels)\n",
    "\n",
    "print(\"Best: %f using %s\" % (grid.best_score_, grid.best_params_))\n",
    "#grid.best_estimator_.predict(test_feat)"
   ]
  },
  {
   "cell_type": "code",
   "execution_count": null,
   "metadata": {},
   "outputs": [],
   "source": []
  },
  {
   "cell_type": "code",
   "execution_count": null,
   "metadata": {},
   "outputs": [],
   "source": []
  },
  {
   "cell_type": "code",
   "execution_count": null,
   "metadata": {},
   "outputs": [],
   "source": []
  }
 ],
 "metadata": {
  "kernelspec": {
   "display_name": "Python 3",
   "language": "python",
   "name": "python3"
  },
  "language_info": {
   "codemirror_mode": {
    "name": "ipython",
    "version": 3
   },
   "file_extension": ".py",
   "mimetype": "text/x-python",
   "name": "python",
   "nbconvert_exporter": "python",
   "pygments_lexer": "ipython3",
   "version": "3.6.4"
  }
 },
 "nbformat": 4,
 "nbformat_minor": 2
}
